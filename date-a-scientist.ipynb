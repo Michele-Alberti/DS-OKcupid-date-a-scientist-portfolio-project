{
 "cells": [
  {
   "cell_type": "markdown",
   "metadata": {},
   "source": [
    "# CODECADEMY WALKTHROUGH: DATE A SCIENTIST\n",
    "\n",
    "Get ready for the third act of this walkthrough for Codecademy's Data Science career path.\\\n",
    "We will apply machine learning algorithms to the *OkCupid Date a Scientist* dataset for completing the *machine learning portfolio project*.\n",
    "\n",
    "## Exploratory Data Analysis and Data Preparation\n",
    "Data are provided by Codecademy as part of the project in a file named `profiles.csv`.\\\n",
    "The dataset provided has the following columns of multiple-choice data:\n",
    "- **body_type**\n",
    "- **diet**\n",
    "- **drinks**\n",
    "- **drugs**\n",
    "- **education**\n",
    "- **ethnicity**\n",
    "- **height**\n",
    "- **income**\n",
    "- **job**\n",
    "- **offspring**\n",
    "- **orientation**\n",
    "- **pets**\n",
    "- **religion**\n",
    "- **sex**\n",
    "- **sign**\n",
    "- **smokes**\n",
    "- **speaks**\n",
    "- **status**\n",
    "\n",
    "And a set of open short-answer responses to :\n",
    "- **essay0**: *My self-summary*\n",
    "- **essay1**: *What I’m doing with my life*\n",
    "- **essay2**: *I’m really good at…*\n",
    "- **essay3**: *The first thing people usually notice about me…*\n",
    "- **essay4**: *Favorite books, movies, show, music, and food*\n",
    "- **essay5**: *The six things I could never do without*\n",
    "- **essay6**: *I spend a lot of time thinking about…*\n",
    "- **essay7**: *On a typical Friday night I am…*\n",
    "- **essay8**: *The most private thing I am willing to admit*\n",
    "- **essay9**: *You should message me if…*\n",
    "\n",
    "I already have a faint idea of what I'm interested in: I would like to make prediction on people age by using essays available on users profiles.\\\n",
    "For this reason I will focus the *exploratory data analysis* on tidying ages essays and users.\n",
    "\n",
    "### Import statements\n",
    "As usual, we start by importing all the relevant packages."
   ]
  },
  {
   "cell_type": "code",
   "execution_count": 1,
   "metadata": {},
   "outputs": [],
   "source": [
    "from tqdm.notebook import tqdm\n",
    "import pandas as pd\n",
    "import numpy as np\n",
    "import matplotlib.pyplot as plt\n",
    "import seaborn as sns\n",
    "import spacy\n",
    "from sklearn.model_selection import train_test_split\n",
    "from sklearn.preprocessing import StandardScaler\n",
    "from sklearn.decomposition import PCA\n",
    "from sklearn.linear_model import LogisticRegression\n",
    "from sklearn.pipeline import Pipeline\n",
    "from sklearn.model_selection import GridSearchCV, RepeatedStratifiedKFold\n",
    "from sklearn.dummy import DummyClassifier\n",
    "from sklearn.metrics import f1_score\n",
    "\n",
    "# Increase columns limit\n",
    "#pd.options.display.max_columns = None"
   ]
  },
  {
   "cell_type": "markdown",
   "metadata": {},
   "source": [
    "### Load CSV\n",
    "Let's now load *OkCupid* users profiles and assign them to a *pandas dataframe*.\\\n",
    "The first row of profiles' table is visible below."
   ]
  },
  {
   "cell_type": "code",
   "execution_count": 2,
   "metadata": {},
   "outputs": [
    {
     "data": {
      "text/html": [
       "<div>\n",
       "<style scoped>\n",
       "    .dataframe tbody tr th:only-of-type {\n",
       "        vertical-align: middle;\n",
       "    }\n",
       "\n",
       "    .dataframe tbody tr th {\n",
       "        vertical-align: top;\n",
       "    }\n",
       "\n",
       "    .dataframe thead th {\n",
       "        text-align: right;\n",
       "    }\n",
       "</style>\n",
       "<table border=\"1\" class=\"dataframe\">\n",
       "  <thead>\n",
       "    <tr style=\"text-align: right;\">\n",
       "      <th></th>\n",
       "      <th>age</th>\n",
       "      <th>body_type</th>\n",
       "      <th>diet</th>\n",
       "      <th>drinks</th>\n",
       "      <th>drugs</th>\n",
       "      <th>education</th>\n",
       "      <th>essay0</th>\n",
       "      <th>essay1</th>\n",
       "      <th>essay2</th>\n",
       "      <th>essay3</th>\n",
       "      <th>...</th>\n",
       "      <th>location</th>\n",
       "      <th>offspring</th>\n",
       "      <th>orientation</th>\n",
       "      <th>pets</th>\n",
       "      <th>religion</th>\n",
       "      <th>sex</th>\n",
       "      <th>sign</th>\n",
       "      <th>smokes</th>\n",
       "      <th>speaks</th>\n",
       "      <th>status</th>\n",
       "    </tr>\n",
       "  </thead>\n",
       "  <tbody>\n",
       "    <tr>\n",
       "      <th>0</th>\n",
       "      <td>22</td>\n",
       "      <td>a little extra</td>\n",
       "      <td>strictly anything</td>\n",
       "      <td>socially</td>\n",
       "      <td>never</td>\n",
       "      <td>working on college/university</td>\n",
       "      <td>about me:&lt;br /&gt;\\n&lt;br /&gt;\\ni would love to think...</td>\n",
       "      <td>currently working as an international agent fo...</td>\n",
       "      <td>making people laugh.&lt;br /&gt;\\nranting about a go...</td>\n",
       "      <td>the way i look. i am a six foot half asian, ha...</td>\n",
       "      <td>...</td>\n",
       "      <td>south san francisco, california</td>\n",
       "      <td>doesn&amp;rsquo;t have kids, but might want them</td>\n",
       "      <td>straight</td>\n",
       "      <td>likes dogs and likes cats</td>\n",
       "      <td>agnosticism and very serious about it</td>\n",
       "      <td>m</td>\n",
       "      <td>gemini</td>\n",
       "      <td>sometimes</td>\n",
       "      <td>english</td>\n",
       "      <td>single</td>\n",
       "    </tr>\n",
       "  </tbody>\n",
       "</table>\n",
       "<p>1 rows × 31 columns</p>\n",
       "</div>"
      ],
      "text/plain": [
       "   age       body_type               diet    drinks  drugs  \\\n",
       "0   22  a little extra  strictly anything  socially  never   \n",
       "\n",
       "                       education  \\\n",
       "0  working on college/university   \n",
       "\n",
       "                                              essay0  \\\n",
       "0  about me:<br />\\n<br />\\ni would love to think...   \n",
       "\n",
       "                                              essay1  \\\n",
       "0  currently working as an international agent fo...   \n",
       "\n",
       "                                              essay2  \\\n",
       "0  making people laugh.<br />\\nranting about a go...   \n",
       "\n",
       "                                              essay3  ...  \\\n",
       "0  the way i look. i am a six foot half asian, ha...  ...   \n",
       "\n",
       "                          location  \\\n",
       "0  south san francisco, california   \n",
       "\n",
       "                                      offspring orientation  \\\n",
       "0  doesn&rsquo;t have kids, but might want them    straight   \n",
       "\n",
       "                        pets                               religion sex  \\\n",
       "0  likes dogs and likes cats  agnosticism and very serious about it   m   \n",
       "\n",
       "     sign     smokes   speaks  status  \n",
       "0  gemini  sometimes  english  single  \n",
       "\n",
       "[1 rows x 31 columns]"
      ]
     },
     "metadata": {},
     "output_type": "display_data"
    }
   ],
   "source": [
    "# Load profiles\n",
    "profiles = pd.read_csv('profiles.csv')\n",
    "display(profiles.head(1))"
   ]
  },
  {
   "cell_type": "markdown",
   "metadata": {},
   "source": [
    "We may improve `profiles` by changing the essays columns names. Something related to the subject of each essay would be more intuitive.\n",
    "\n",
    "In addition some *HTML* charachters are present inside texts: we can remove them with *RegEx*.\\\n",
    "I noticed that the RegEx expression I choosed is sensible to newlines charachters, which may prevent *HTML tag removal* if `\\n` is inside the tag itself. Let's remove them before working on those pesky *HTML* tags!"
   ]
  },
  {
   "cell_type": "code",
   "execution_count": 3,
   "metadata": {
    "scrolled": false
   },
   "outputs": [
    {
     "data": {
      "text/html": [
       "<div>\n",
       "<style scoped>\n",
       "    .dataframe tbody tr th:only-of-type {\n",
       "        vertical-align: middle;\n",
       "    }\n",
       "\n",
       "    .dataframe tbody tr th {\n",
       "        vertical-align: top;\n",
       "    }\n",
       "\n",
       "    .dataframe thead th {\n",
       "        text-align: right;\n",
       "    }\n",
       "</style>\n",
       "<table border=\"1\" class=\"dataframe\">\n",
       "  <thead>\n",
       "    <tr style=\"text-align: right;\">\n",
       "      <th></th>\n",
       "      <th>age</th>\n",
       "      <th>body_type</th>\n",
       "      <th>diet</th>\n",
       "      <th>drinks</th>\n",
       "      <th>drugs</th>\n",
       "      <th>education</th>\n",
       "      <th>my_self</th>\n",
       "      <th>life</th>\n",
       "      <th>good_at</th>\n",
       "      <th>people_notice</th>\n",
       "      <th>...</th>\n",
       "      <th>location</th>\n",
       "      <th>offspring</th>\n",
       "      <th>orientation</th>\n",
       "      <th>pets</th>\n",
       "      <th>religion</th>\n",
       "      <th>sex</th>\n",
       "      <th>sign</th>\n",
       "      <th>smokes</th>\n",
       "      <th>speaks</th>\n",
       "      <th>status</th>\n",
       "    </tr>\n",
       "  </thead>\n",
       "  <tbody>\n",
       "    <tr>\n",
       "      <th>0</th>\n",
       "      <td>22</td>\n",
       "      <td>a little extra</td>\n",
       "      <td>strictly anything</td>\n",
       "      <td>socially</td>\n",
       "      <td>never</td>\n",
       "      <td>working on college/university</td>\n",
       "      <td>about me:  i would love to think that i was so...</td>\n",
       "      <td>currently working as an international agent fo...</td>\n",
       "      <td>making people laugh. ranting about a good salt...</td>\n",
       "      <td>the way i look. i am a six foot half asian, ha...</td>\n",
       "      <td>...</td>\n",
       "      <td>south san francisco, california</td>\n",
       "      <td>doesn&amp;rsquo;t have kids, but might want them</td>\n",
       "      <td>straight</td>\n",
       "      <td>likes dogs and likes cats</td>\n",
       "      <td>agnosticism and very serious about it</td>\n",
       "      <td>m</td>\n",
       "      <td>gemini</td>\n",
       "      <td>sometimes</td>\n",
       "      <td>english</td>\n",
       "      <td>single</td>\n",
       "    </tr>\n",
       "  </tbody>\n",
       "</table>\n",
       "<p>1 rows × 31 columns</p>\n",
       "</div>"
      ],
      "text/plain": [
       "   age       body_type               diet    drinks  drugs  \\\n",
       "0   22  a little extra  strictly anything  socially  never   \n",
       "\n",
       "                       education  \\\n",
       "0  working on college/university   \n",
       "\n",
       "                                             my_self  \\\n",
       "0  about me:  i would love to think that i was so...   \n",
       "\n",
       "                                                life  \\\n",
       "0  currently working as an international agent fo...   \n",
       "\n",
       "                                             good_at  \\\n",
       "0  making people laugh. ranting about a good salt...   \n",
       "\n",
       "                                       people_notice  ...  \\\n",
       "0  the way i look. i am a six foot half asian, ha...  ...   \n",
       "\n",
       "                          location  \\\n",
       "0  south san francisco, california   \n",
       "\n",
       "                                      offspring orientation  \\\n",
       "0  doesn&rsquo;t have kids, but might want them    straight   \n",
       "\n",
       "                        pets                               religion sex  \\\n",
       "0  likes dogs and likes cats  agnosticism and very serious about it   m   \n",
       "\n",
       "     sign     smokes   speaks  status  \n",
       "0  gemini  sometimes  english  single  \n",
       "\n",
       "[1 rows x 31 columns]"
      ]
     },
     "metadata": {},
     "output_type": "display_data"
    },
    {
     "name": "stdout",
     "output_type": "stream",
     "text": [
      "DATAFRAME LENGTH: 59946 rows\n"
     ]
    }
   ],
   "source": [
    "# Replace essay columns names with something meaningful\n",
    "profiles.rename(columns={'essay0': 'my_self', 'essay1': 'life', 'essay2': 'good_at', 'essay3': 'people_notice', \n",
    "                         'essay4': 'favorites', 'essay5': 'six_needed', 'essay6': 'think_to', 'essay7': 'friday_night', \n",
    "                         'essay8': 'private_admit', 'essay9': 'message_me_if'}, inplace=True)\n",
    "\n",
    "# Save a list with essay columns names\n",
    "essays_cols = profiles.columns.to_list()[6:16]\n",
    "\n",
    "# Remove newlines and HTML charachters from essay columns\n",
    "for col in essays_cols:\n",
    "    profiles[col] = profiles[col].str.replace(\"\\n\", \" \", regex=False)\n",
    "    profiles[col] = profiles[col].str.replace(r\"<[^>]*>\", \"\", regex=True)\n",
    "\n",
    "display(profiles.head(1))\n",
    "    \n",
    "print(f\"DATAFRAME LENGTH: {len(profiles)} rows\")"
   ]
  },
  {
   "cell_type": "markdown",
   "metadata": {},
   "source": [
    "Texts are good to go now.\\\n",
    "This dataframe includes 59946 users, a considerable amount.\n",
    "\n",
    "### Dataset basic description\n",
    "Before moving to the age distribution let'see if we have missing values in essays."
   ]
  },
  {
   "cell_type": "code",
   "execution_count": 4,
   "metadata": {},
   "outputs": [
    {
     "data": {
      "text/html": [
       "<style  type=\"text/css\" >\n",
       "</style><table id=\"T_454af_\" ><caption>Missing essays</caption><thead>    <tr>        <th class=\"blank level0\" ></th>        <th class=\"col_heading level0 col0\" >missing_count</th>    </tr></thead><tbody>\n",
       "                <tr>\n",
       "                        <th id=\"T_454af_level0_row0\" class=\"row_heading level0 row0\" >my_self</th>\n",
       "                        <td id=\"T_454af_row0_col0\" class=\"data row0 col0\" >5488</td>\n",
       "            </tr>\n",
       "            <tr>\n",
       "                        <th id=\"T_454af_level0_row1\" class=\"row_heading level0 row1\" >life</th>\n",
       "                        <td id=\"T_454af_row1_col0\" class=\"data row1 col0\" >7572</td>\n",
       "            </tr>\n",
       "            <tr>\n",
       "                        <th id=\"T_454af_level0_row2\" class=\"row_heading level0 row2\" >good_at</th>\n",
       "                        <td id=\"T_454af_row2_col0\" class=\"data row2 col0\" >9638</td>\n",
       "            </tr>\n",
       "            <tr>\n",
       "                        <th id=\"T_454af_level0_row3\" class=\"row_heading level0 row3\" >people_notice</th>\n",
       "                        <td id=\"T_454af_row3_col0\" class=\"data row3 col0\" >11476</td>\n",
       "            </tr>\n",
       "            <tr>\n",
       "                        <th id=\"T_454af_level0_row4\" class=\"row_heading level0 row4\" >favorites</th>\n",
       "                        <td id=\"T_454af_row4_col0\" class=\"data row4 col0\" >10537</td>\n",
       "            </tr>\n",
       "            <tr>\n",
       "                        <th id=\"T_454af_level0_row5\" class=\"row_heading level0 row5\" >six_needed</th>\n",
       "                        <td id=\"T_454af_row5_col0\" class=\"data row5 col0\" >10850</td>\n",
       "            </tr>\n",
       "            <tr>\n",
       "                        <th id=\"T_454af_level0_row6\" class=\"row_heading level0 row6\" >think_to</th>\n",
       "                        <td id=\"T_454af_row6_col0\" class=\"data row6 col0\" >13771</td>\n",
       "            </tr>\n",
       "            <tr>\n",
       "                        <th id=\"T_454af_level0_row7\" class=\"row_heading level0 row7\" >friday_night</th>\n",
       "                        <td id=\"T_454af_row7_col0\" class=\"data row7 col0\" >12451</td>\n",
       "            </tr>\n",
       "            <tr>\n",
       "                        <th id=\"T_454af_level0_row8\" class=\"row_heading level0 row8\" >private_admit</th>\n",
       "                        <td id=\"T_454af_row8_col0\" class=\"data row8 col0\" >19225</td>\n",
       "            </tr>\n",
       "            <tr>\n",
       "                        <th id=\"T_454af_level0_row9\" class=\"row_heading level0 row9\" >message_me_if</th>\n",
       "                        <td id=\"T_454af_row9_col0\" class=\"data row9 col0\" >12603</td>\n",
       "            </tr>\n",
       "    </tbody></table>"
      ],
      "text/plain": [
       "<pandas.io.formats.style.Styler at 0x7f96b2877280>"
      ]
     },
     "metadata": {},
     "output_type": "display_data"
    }
   ],
   "source": [
    "# Find missing data only for essays columns\n",
    "missing_df = profiles.iloc[:,6:16].isna().sum(axis=0).to_frame()\n",
    "# Show results\n",
    "missing_df.rename(columns={0: 'missing_count'}, inplace=True)\n",
    "display(missing_df.style.set_caption('Missing essays'))"
   ]
  },
  {
   "cell_type": "markdown",
   "metadata": {},
   "source": [
    "Ok, now we know that it is better to remove *NaNs* if we are going to train a model on this dataset:\\\n",
    "some people did not completed all the essays...\n",
    "\n",
    "Texts are finally clean, we can take a look to age distribution."
   ]
  },
  {
   "cell_type": "code",
   "execution_count": 5,
   "metadata": {},
   "outputs": [
    {
     "data": {
      "image/png": "[encoded data removed]",
      "text/plain": [
       "<Figure size 360x360 with 1 Axes>"
      ]
     },
     "metadata": {},
     "output_type": "display_data"
    },
    {
     "name": "stdout",
     "output_type": "stream",
     "text": [
      "MEDIAN: 30.0\n"
     ]
    }
   ],
   "source": [
    "# Theme preferences (used for every plot)\n",
    "sns.set_theme(style='ticks', rc={'axes.grid': True})\n",
    "\n",
    "\n",
    "# Age distribution plotting function (with median)\n",
    "def print_age_dist(median):\n",
    "    sns.displot(profiles, x=\"age\", kind=\"kde\")\n",
    "    sns.despine(top=False, right=False)\n",
    "    plt.axvline(median, color='firebrick')\n",
    "    plt.title('Age Distribution')\n",
    "    plt.legend(['Age', 'Median'])\n",
    "    plt.show()\n",
    "\n",
    "# Find median\n",
    "median = profiles.age.median()\n",
    "\n",
    "print_age_dist(median)\n",
    "\n",
    "print(f'MEDIAN: {median:.1f}')"
   ]
  },
  {
   "cell_type": "markdown",
   "metadata": {},
   "source": [
    "Age median is *30* and there is a peak around 25. We see also that the distribution is right skewed, this means that in our dataset a reduced number of people is more than 40 years old.\n",
    "\n",
    "Looking at the far right of the ditribution plot, it seems that we have some people over 100 years old.\n",
    "This is unexpected!"
   ]
  },
  {
   "cell_type": "code",
   "execution_count": 6,
   "metadata": {},
   "outputs": [
    {
     "data": {
      "text/html": [
       "<div>\n",
       "<style scoped>\n",
       "    .dataframe tbody tr th:only-of-type {\n",
       "        vertical-align: middle;\n",
       "    }\n",
       "\n",
       "    .dataframe tbody tr th {\n",
       "        vertical-align: top;\n",
       "    }\n",
       "\n",
       "    .dataframe thead th {\n",
       "        text-align: right;\n",
       "    }\n",
       "</style>\n",
       "<table border=\"1\" class=\"dataframe\">\n",
       "  <thead>\n",
       "    <tr style=\"text-align: right;\">\n",
       "      <th></th>\n",
       "      <th>age</th>\n",
       "      <th>body_type</th>\n",
       "      <th>diet</th>\n",
       "      <th>drinks</th>\n",
       "      <th>drugs</th>\n",
       "      <th>education</th>\n",
       "      <th>my_self</th>\n",
       "      <th>life</th>\n",
       "      <th>good_at</th>\n",
       "      <th>people_notice</th>\n",
       "      <th>...</th>\n",
       "      <th>location</th>\n",
       "      <th>offspring</th>\n",
       "      <th>orientation</th>\n",
       "      <th>pets</th>\n",
       "      <th>religion</th>\n",
       "      <th>sex</th>\n",
       "      <th>sign</th>\n",
       "      <th>smokes</th>\n",
       "      <th>speaks</th>\n",
       "      <th>status</th>\n",
       "    </tr>\n",
       "  </thead>\n",
       "  <tbody>\n",
       "    <tr>\n",
       "      <th>2512</th>\n",
       "      <td>110</td>\n",
       "      <td>NaN</td>\n",
       "      <td>NaN</td>\n",
       "      <td>NaN</td>\n",
       "      <td>NaN</td>\n",
       "      <td>NaN</td>\n",
       "      <td>NaN</td>\n",
       "      <td>NaN</td>\n",
       "      <td>NaN</td>\n",
       "      <td>NaN</td>\n",
       "      <td>...</td>\n",
       "      <td>daly city, california</td>\n",
       "      <td>NaN</td>\n",
       "      <td>straight</td>\n",
       "      <td>NaN</td>\n",
       "      <td>NaN</td>\n",
       "      <td>f</td>\n",
       "      <td>NaN</td>\n",
       "      <td>NaN</td>\n",
       "      <td>english</td>\n",
       "      <td>single</td>\n",
       "    </tr>\n",
       "    <tr>\n",
       "      <th>25324</th>\n",
       "      <td>109</td>\n",
       "      <td>athletic</td>\n",
       "      <td>mostly other</td>\n",
       "      <td>NaN</td>\n",
       "      <td>never</td>\n",
       "      <td>working on masters program</td>\n",
       "      <td>NaN</td>\n",
       "      <td>NaN</td>\n",
       "      <td>NaN</td>\n",
       "      <td>nothing</td>\n",
       "      <td>...</td>\n",
       "      <td>san francisco, california</td>\n",
       "      <td>might want kids</td>\n",
       "      <td>straight</td>\n",
       "      <td>NaN</td>\n",
       "      <td>other and somewhat serious about it</td>\n",
       "      <td>m</td>\n",
       "      <td>aquarius but it doesn&amp;rsquo;t matter</td>\n",
       "      <td>when drinking</td>\n",
       "      <td>english (okay)</td>\n",
       "      <td>available</td>\n",
       "    </tr>\n",
       "  </tbody>\n",
       "</table>\n",
       "<p>2 rows × 31 columns</p>\n",
       "</div>"
      ],
      "text/plain": [
       "       age body_type          diet drinks  drugs                   education  \\\n",
       "2512   110       NaN           NaN    NaN    NaN                         NaN   \n",
       "25324  109  athletic  mostly other    NaN  never  working on masters program   \n",
       "\n",
       "      my_self life good_at people_notice  ...                   location  \\\n",
       "2512      NaN  NaN     NaN           NaN  ...      daly city, california   \n",
       "25324     NaN  NaN     NaN       nothing  ...  san francisco, california   \n",
       "\n",
       "             offspring orientation pets                             religion  \\\n",
       "2512               NaN    straight  NaN                                  NaN   \n",
       "25324  might want kids    straight  NaN  other and somewhat serious about it   \n",
       "\n",
       "      sex                                  sign         smokes  \\\n",
       "2512    f                                   NaN            NaN   \n",
       "25324   m  aquarius but it doesn&rsquo;t matter  when drinking   \n",
       "\n",
       "               speaks     status  \n",
       "2512          english     single  \n",
       "25324  english (okay)  available  \n",
       "\n",
       "[2 rows x 31 columns]"
      ]
     },
     "metadata": {},
     "output_type": "display_data"
    }
   ],
   "source": [
    "display(profiles[profiles.age > 100])"
   ]
  },
  {
   "cell_type": "markdown",
   "metadata": {},
   "source": [
    "Since these profiles are not meaningful, we can remove them."
   ]
  },
  {
   "cell_type": "code",
   "execution_count": 7,
   "metadata": {},
   "outputs": [
    {
     "data": {
      "image/png": "[encoded data removed]",
      "text/plain": [
       "<Figure size 360x360 with 1 Axes>"
      ]
     },
     "metadata": {},
     "output_type": "display_data"
    },
    {
     "name": "stdout",
     "output_type": "stream",
     "text": [
      "MEDIAN: 30.0\n"
     ]
    }
   ],
   "source": [
    "# Remove values\n",
    "profiles = profiles[profiles.age <= 100]\n",
    "# Find median and plot distribution\n",
    "median = profiles.age.median()\n",
    "print_age_dist(median)\n",
    "print(f'MEDIAN: {median:.1f}')"
   ]
  },
  {
   "cell_type": "markdown",
   "metadata": {},
   "source": [
    "I doubt that an *OkCupid* profile is accepted without the *age* field properly filled in, but it worth a check."
   ]
  },
  {
   "cell_type": "code",
   "execution_count": 8,
   "metadata": {},
   "outputs": [
    {
     "name": "stdout",
     "output_type": "stream",
     "text": [
      "MISSING AGES: 0\n"
     ]
    }
   ],
   "source": [
    "missing_df.rename(columns={0: 'missing_count'}, inplace=True)\n",
    "print(f\"MISSING AGES: {profiles.age.isna().sum()}\")"
   ]
  },
  {
   "cell_type": "markdown",
   "metadata": {},
   "source": [
    "As expected, there is no need to handle missing ages.\n",
    "\n",
    "## Scope of Project\n",
    "Writing skills vary with age: we change our style, we express different interests and typically we use different espressions as we growth older.\\\n",
    "Is a *machine learning model* able of recognizing these age-related differences and classifying the age of each user?\n",
    "\n",
    "Just to keep it simple I will apply my model to only one essay.\\\n",
    "The basic assumption is that younger and older people spend their friday evening in a different way and texts should reflect this difference.\\\n",
    "For this reason, I will focus my analysis on *essay n. 7*: \n",
    "> On a typical Friday night I am…\n",
    "\n",
    "My goal is to assess if this approach could work: it is a first attempt rather than an extended analysis.\n",
    "\n",
    "### Word Vectors and Age Labels\n",
    "The [*Spacy*](https://spacy.io) package gives access to pre-trained *NLP* model. We will use the `en_core_web_lg` model for transforming words inside text in numerical vectors.\n",
    "\n",
    "**Note:** *do not forget to download* `en_core_web_lg` *before proceeding, see instructions in* `README.md`."
   ]
  },
  {
   "cell_type": "code",
   "execution_count": 9,
   "metadata": {},
   "outputs": [],
   "source": [
    "nlp = spacy.load(\"en_core_web_lg\")"
   ]
  },
  {
   "cell_type": "markdown",
   "metadata": {},
   "source": [
    "After loading the model, *Friday essays* are isolated and rows with missing data are removed.\\\n",
    "Finally word vectors are evaluated (be patient, this may take some minutes)."
   ]
  },
  {
   "cell_type": "code",
   "execution_count": 10,
   "metadata": {
    "scrolled": false
   },
   "outputs": [
    {
     "data": {
      "application/vnd.jupyter.widget-view+json": {
       "model_id": "3ecb4506833e4e948a72c59341a48d01",
       "version_major": 2,
       "version_minor": 0
      },
      "text/plain": [
       "Create vectors:   0%|          | 0/47495 [00:00<?, ?vect/s]"
      ]
     },
     "metadata": {},
     "output_type": "display_data"
    }
   ],
   "source": [
    "# Selected essay (On a typical Friday night I am…)\n",
    "essay_n = 7\n",
    "\n",
    "# Remove NaNs\n",
    "data = profiles[['age', essays_cols[essay_n]]].dropna().reset_index(drop=True)\n",
    "\n",
    "# Calculate essay vectors\n",
    "data['vector'] = [nlp(essay).vector for essay in tqdm(data[essays_cols[essay_n]], \n",
    "                                                      desc='Create vectors', \n",
    "                                                      unit='vect', \n",
    "                                                      mininterval=0.5,\n",
    "                                                      leave=True)]"
   ]
  },
  {
   "cell_type": "markdown",
   "metadata": {},
   "source": [
    "Each essay is now described by an *average* word vector.\\\n",
    "We will find if this description is sufficient for correctly classifying users' age.\n",
    "\n",
    "An `age_label` is created as target for classification:\n",
    "- if age is less than 45, the class is `young`\n",
    "- if age is over 45 the class is `old`\n",
    "\n",
    "Anyway, I do not think that all the people over 45 years of age are *old* in a real sense. No judgment here, the threshold is set to be as closer as possible to *common sense* and to include a meaningful number of individuals from the given dataset."
   ]
  },
  {
   "cell_type": "code",
   "execution_count": 11,
   "metadata": {
    "scrolled": false
   },
   "outputs": [
    {
     "data": {
      "text/html": [
       "<div>\n",
       "<style scoped>\n",
       "    .dataframe tbody tr th:only-of-type {\n",
       "        vertical-align: middle;\n",
       "    }\n",
       "\n",
       "    .dataframe tbody tr th {\n",
       "        vertical-align: top;\n",
       "    }\n",
       "\n",
       "    .dataframe thead th {\n",
       "        text-align: right;\n",
       "    }\n",
       "</style>\n",
       "<table border=\"1\" class=\"dataframe\">\n",
       "  <thead>\n",
       "    <tr style=\"text-align: right;\">\n",
       "      <th></th>\n",
       "      <th>age</th>\n",
       "      <th>friday_night</th>\n",
       "      <th>vector</th>\n",
       "      <th>age_label</th>\n",
       "    </tr>\n",
       "  </thead>\n",
       "  <tbody>\n",
       "    <tr>\n",
       "      <th>0</th>\n",
       "      <td>22</td>\n",
       "      <td>trying to find someone to hang out with. i am ...</td>\n",
       "      <td>[0.06319867, 0.18136252, -0.2940689, 0.0234103...</td>\n",
       "      <td>young</td>\n",
       "    </tr>\n",
       "    <tr>\n",
       "      <th>1</th>\n",
       "      <td>38</td>\n",
       "      <td>viewing. listening. dancing. talking. drinking...</td>\n",
       "      <td>[-0.0060819215, 0.1005275, -0.17452693, -0.284...</td>\n",
       "      <td>young</td>\n",
       "    </tr>\n",
       "    <tr>\n",
       "      <th>2</th>\n",
       "      <td>29</td>\n",
       "      <td>out with my friends!</td>\n",
       "      <td>[0.0033432008, 0.099414006, -0.221234, 0.00564...</td>\n",
       "      <td>young</td>\n",
       "    </tr>\n",
       "    <tr>\n",
       "      <th>3</th>\n",
       "      <td>32</td>\n",
       "      <td>plotting to take over the world with my army o...</td>\n",
       "      <td>[0.010795735, 0.02149141, -0.13075618, -0.0928...</td>\n",
       "      <td>young</td>\n",
       "    </tr>\n",
       "    <tr>\n",
       "      <th>4</th>\n",
       "      <td>31</td>\n",
       "      <td>out and about or relaxing at home with a good ...</td>\n",
       "      <td>[-0.020128159, 0.27537325, -0.21100785, 0.0290...</td>\n",
       "      <td>young</td>\n",
       "    </tr>\n",
       "  </tbody>\n",
       "</table>\n",
       "</div>"
      ],
      "text/plain": [
       "   age                                       friday_night  \\\n",
       "0   22  trying to find someone to hang out with. i am ...   \n",
       "1   38  viewing. listening. dancing. talking. drinking...   \n",
       "2   29                               out with my friends!   \n",
       "3   32  plotting to take over the world with my army o...   \n",
       "4   31  out and about or relaxing at home with a good ...   \n",
       "\n",
       "                                              vector age_label  \n",
       "0  [0.06319867, 0.18136252, -0.2940689, 0.0234103...     young  \n",
       "1  [-0.0060819215, 0.1005275, -0.17452693, -0.284...     young  \n",
       "2  [0.0033432008, 0.099414006, -0.221234, 0.00564...     young  \n",
       "3  [0.010795735, 0.02149141, -0.13075618, -0.0928...     young  \n",
       "4  [-0.020128159, 0.27537325, -0.21100785, 0.0290...     young  "
      ]
     },
     "metadata": {},
     "output_type": "display_data"
    },
    {
     "data": {
      "text/html": [
       "<style  type=\"text/css\" >\n",
       "</style><table id=\"T_3cfe2_\" ><caption>Young vs Old</caption><thead>    <tr>        <th class=\"blank level0\" ></th>        <th class=\"col_heading level0 col0\" >count</th>    </tr></thead><tbody>\n",
       "                <tr>\n",
       "                        <th id=\"T_3cfe2_level0_row0\" class=\"row_heading level0 row0\" >young</th>\n",
       "                        <td id=\"T_3cfe2_row0_col0\" class=\"data row0 col0\" >42189</td>\n",
       "            </tr>\n",
       "            <tr>\n",
       "                        <th id=\"T_3cfe2_level0_row1\" class=\"row_heading level0 row1\" >old</th>\n",
       "                        <td id=\"T_3cfe2_row1_col0\" class=\"data row1 col0\" >5306</td>\n",
       "            </tr>\n",
       "    </tbody></table>"
      ],
      "text/plain": [
       "<pandas.io.formats.style.Styler at 0x7f96933a2f70>"
      ]
     },
     "metadata": {},
     "output_type": "display_data"
    }
   ],
   "source": [
    "data['age_label'] = data.age.apply(lambda a: 'young' if a<45 else 'old')\n",
    "display(data.head(5))\n",
    "display(data.age_label.value_counts().to_frame('count').style.set_caption('Young vs Old'))"
   ]
  },
  {
   "cell_type": "markdown",
   "metadata": {},
   "source": [
    "We know that the dataset is strongly imbalanced toward young people, I would expect this to be a problem for the classifier.\n",
    "\n",
    "### Classification Model\n",
    "We are ready to build a *modelization pipeline*. It includes the following steps:\n",
    "- `scaler`: a `StandardScale`for removing scale effects\n",
    "- `analyzer`: a `PCA` (principal component analysis) to reduce features dimensionality\n",
    "- `classifier`: a `LogisticRegression` model for associating vectors to *age labels*\n",
    "\n",
    "I have selected those components because they are fast to train.\\\n",
    "I then decided to add the *PCA* to reduce the dimensionality of vectors build by the large *Spacy* model (`en_core_web_lg`). These are 300 elements long!\\\n",
    "The *PCA* is set to keep only the principal components that explain 95 % of the variance.\n",
    "\n",
    "Before training the pipeline, one third of the dataset is stored for testing the model later on.\n",
    "\n",
    "`GridSearchCV` will train several `LogisticRegression` classifiers on different sub-datasets and with different hyperparameters, in order to find the best one according to our scoring metric.\\\n",
    "I selected `C` and `class_weight` as hyperparameters to be optimized (see [*Scikit* documentation](https://scikit-learn.org/stable/modules/generated/sklearn.linear_model.LogisticRegression.html) for details).\n",
    "\n",
    "`scoring`is set to `f1_weighted` instead of the default `accuracy` because we have an imbalanced dataset, where `young` people are dominant.\n",
    "A simple *accuracy* would reward models that result often in a `young` classification, even if wrong.\\\n",
    "We want to penalize misclassification instead, and the score metrics we have selected attempts to reach that goal (see [*Scikit Learn*](https://scikit-learn.org/stable/modules/model_evaluation.html) documentation and this [*tour of evaluation metrics*](https://machinelearningmastery.com/tour-of-evaluation-metrics-for-imbalanced-classification/)).\n",
    "\n",
    "Tuning the `class_weight` hyperparameter is part of the same objective: in fact it assign different weights to errors on labels prediction. We are thus emphatizing the importance of the `old` class.\n",
    "\n",
    "Time to train!\\\n",
    "**Please be patient, this will take a couple of minutes...**"
   ]
  },
  {
   "cell_type": "code",
   "execution_count": 12,
   "metadata": {
    "scrolled": false
   },
   "outputs": [
    {
     "name": "stdout",
     "output_type": "stream",
     "text": [
      "Fitting 6 folds for each of 45 candidates, totalling 270 fits\n"
     ]
    },
    {
     "name": "stderr",
     "output_type": "stream",
     "text": [
      "[Parallel(n_jobs=-1)]: Using backend LokyBackend with 4 concurrent workers.\n",
      "[Parallel(n_jobs=-1)]: Done  42 tasks      | elapsed:   22.9s\n",
      "[Parallel(n_jobs=-1)]: Done 192 tasks      | elapsed:  1.5min\n",
      "[Parallel(n_jobs=-1)]: Done 270 out of 270 | elapsed:  2.0min finished\n"
     ]
    },
    {
     "name": "stdout",
     "output_type": "stream",
     "text": [
      "Best parameter (CV score=0.847):\n",
      "{'classifier__C': 0.15, 'classifier__class_weight': {'young': 1, 'old': 3}}\n"
     ]
    }
   ],
   "source": [
    "# Set random state\n",
    "rand_st = 125\n",
    "\n",
    "# Set features and labels\n",
    "features = np.vstack(data.vector.to_numpy())\n",
    "labels = data.age_label.to_numpy()\n",
    "\n",
    "# Divide in train and test set\n",
    "features_train, features_test, labels_train, labels_test = train_test_split(features, \n",
    "                                                                            labels, \n",
    "                                                                            stratify=labels,\n",
    "                                                                            test_size=0.3, \n",
    "                                                                            random_state=rand_st)\n",
    "\n",
    "# Define pipeline\n",
    "pipe = Pipeline([\n",
    "                 ('scaler', StandardScaler()),\n",
    "                 ('analyzer', PCA(random_state=rand_st, n_components=0.95, svd_solver= 'full')),\n",
    "                 ('classifier', LogisticRegression())\n",
    "                ])\n",
    "\n",
    "# Parameters of grid search:\n",
    "param_grid = {\n",
    "              'classifier__C': [0.1, 0.15, 0.2, 0.3, 0.4],\n",
    "              'classifier__class_weight': [{'young': y, 'old': o} for y, o in zip([1]*9, range(1,10))]\n",
    "             }\n",
    "\n",
    "# Grid search\n",
    "grid = GridSearchCV(pipe,\n",
    "                    param_grid,\n",
    "                    scoring='f1_weighted',\n",
    "                    cv=RepeatedStratifiedKFold(n_splits=3, n_repeats=2, random_state=rand_st),\n",
    "                    n_jobs=-1,\n",
    "                    verbose=1)\n",
    "\n",
    "grid.fit(features_train, labels_train)\n",
    "\n",
    "print(f\"Best parameter (CV score={grid.best_score_:.3f}):\")\n",
    "print(grid.best_params_)"
   ]
  },
  {
   "cell_type": "markdown",
   "metadata": {},
   "source": [
    "The score seems good, we will see how good after the testing phase.\\\n",
    "We can see the effects of PCA dimensionality reduction with the following code."
   ]
  },
  {
   "cell_type": "code",
   "execution_count": 13,
   "metadata": {
    "scrolled": true
   },
   "outputs": [
    {
     "name": "stdout",
     "output_type": "stream",
     "text": [
      "Dimensions before PCA:\t300\n",
      "Dimensions after PCA:\t164\n"
     ]
    }
   ],
   "source": [
    "print(f\"Dimensions before PCA:\\t{grid.best_estimator_['analyzer'].n_features_}\")\n",
    "print(f\"Dimensions after PCA:\\t{grid.best_estimator_['classifier'].n_features_in_}\")"
   ]
  },
  {
   "cell_type": "markdown",
   "metadata": {},
   "source": [
    "### Test\n",
    "We have a sub-set we have kept for testing the model: it's time to use it!\\\n",
    "Score and confusion matrix are shown below."
   ]
  },
  {
   "cell_type": "code",
   "execution_count": 14,
   "metadata": {
    "scrolled": true
   },
   "outputs": [
    {
     "name": "stdout",
     "output_type": "stream",
     "text": [
      "Test score: 0.847\n"
     ]
    },
    {
     "data": {
      "text/html": [
       "<div>\n",
       "<style scoped>\n",
       "    .dataframe tbody tr th:only-of-type {\n",
       "        vertical-align: middle;\n",
       "    }\n",
       "\n",
       "    .dataframe tbody tr th {\n",
       "        vertical-align: top;\n",
       "    }\n",
       "\n",
       "    .dataframe thead th {\n",
       "        text-align: right;\n",
       "    }\n",
       "</style>\n",
       "<table border=\"1\" class=\"dataframe\">\n",
       "  <thead>\n",
       "    <tr style=\"text-align: right;\">\n",
       "      <th>predictions</th>\n",
       "      <th>old</th>\n",
       "      <th>young</th>\n",
       "    </tr>\n",
       "    <tr>\n",
       "      <th>actual</th>\n",
       "      <th></th>\n",
       "      <th></th>\n",
       "    </tr>\n",
       "  </thead>\n",
       "  <tbody>\n",
       "    <tr>\n",
       "      <th>old</th>\n",
       "      <td>300</td>\n",
       "      <td>1292</td>\n",
       "    </tr>\n",
       "    <tr>\n",
       "      <th>young</th>\n",
       "      <td>680</td>\n",
       "      <td>11977</td>\n",
       "    </tr>\n",
       "  </tbody>\n",
       "</table>\n",
       "</div>"
      ],
      "text/plain": [
       "predictions  old  young\n",
       "actual                 \n",
       "old          300   1292\n",
       "young        680  11977"
      ]
     },
     "metadata": {},
     "output_type": "display_data"
    }
   ],
   "source": [
    "# Model predictions\n",
    "predictions = grid.predict(features_test)\n",
    "\n",
    "# Score\n",
    "test_score = grid.score(features_test, labels_test)\n",
    "print(f\"Test score: {test_score:.3f}\")\n",
    "\n",
    "# Confusion matrix\n",
    "act_pred_df = pd.DataFrame({'actual': labels_test, 'predictions': predictions})\n",
    "confusion_matrix = pd.crosstab(act_pred_df.actual, act_pred_df.predictions)\n",
    "display(confusion_matrix)"
   ]
  },
  {
   "cell_type": "markdown",
   "metadata": {},
   "source": [
    "As we expected the fact that the dataset is not balanced is problematic. The model tend to label *old* people as *young*.\\\n",
    "We see also that *young* people is sometimes labeled as *old*."
   ]
  },
  {
   "cell_type": "markdown",
   "metadata": {},
   "source": [
    "## Conclusions\n",
    "The classifier match the dataset, at least partially.\\\n",
    "It seems also that it is not completely able of understanding the difference between essays written by *young* and *old* people: the reason of this beahvior may be that some vectorized essays are really similar between the two classes. Styling differences in written texts for the two groups are probably subtile in some cases, making harder for this model to understand them.\\\n",
    "It may happen also that some sentences are used frequently by both classes because they are generic and not age-related. This may lead to misclassifications too.\n",
    "\n",
    "But is our classifier better than a trivial one, a model that predicts always the most frequent *young* label (called [*Zero Rule* or *ZeroR*](https://machinelearningcatalogue.com/algorithm/alg_zero-rule.html))?\n",
    "\n",
    "Let' use *Scikit*'s `DummyClassifier` to output the most frequent label and evaluate the weighted *f1 score* of our model on the test set.\\\n",
    "It is possible to pass to `f1_score` a simple list made of `'young'` strings, instead of using the `DummyClassifier.predict` method."
   ]
  },
  {
   "cell_type": "code",
   "execution_count": 15,
   "metadata": {},
   "outputs": [
    {
     "name": "stdout",
     "output_type": "stream",
     "text": [
      "ZeroR f1 score: 0.836\n"
     ]
    }
   ],
   "source": [
    "# Train a dummy model that predict the most frequent label (0-rule)\n",
    "dummy_model = DummyClassifier(strategy='most_frequent', random_state=rand_st)\n",
    "dummy_model.fit(features_train, labels_train)\n",
    "dummy_predict = dummy_model.predict(features_test)\n",
    "score = f1_score(labels_test, dummy_predict, average='weighted')\n",
    "print(f'ZeroR f1 score: {score:.3f}')"
   ]
  },
  {
   "cell_type": "markdown",
   "metadata": {},
   "source": [
    "The model we trained achieved an improved score of 0.886, so it has a value for the domain we have analyzed."
   ]
  },
  {
   "cell_type": "markdown",
   "metadata": {},
   "source": [
    "## Next Steps\n",
    "I experimented different classifiers and several scoring function before adopting the simple pipeline described above.\\\n",
    "I wanted to test if the idea of recognizing age-related differences in texts and classify the author with those findings could work.\\\n",
    "For this reason I selected a classification algorithm that is fast and simple and then I played with scoring functions and hyperparameters to avoid biases towards the *young* class.\\\n",
    "Since there is a sensible improvement in comparison to the *Zero Rule*, it may worth investigating some possible improvements:\n",
    "- Experimenting with different classifiers (e.g. kNN or other time intensive classifiers)\n",
    "- Using a different scoring metric (I tested also `balanced_accuracy` which seemed to predict more *old* labels correctly but with higher misclassification on the *young* ones)\n",
    "- Adding essays or features to help the model differentiating the two classes\n",
    "- Adding a middle class with an intermediate age range"
   ]
  }
 ],
 "metadata": {
  "kernelspec": {
   "display_name": "Python 3",
   "language": "python",
   "name": "python3"
  },
  "language_info": {
   "codemirror_mode": {
    "name": "ipython",
    "version": 3
   },
   "file_extension": ".py",
   "mimetype": "text/x-python",
   "name": "python",
   "nbconvert_exporter": "python",
   "pygments_lexer": "ipython3",
   "version": "3.9.1"
  }
 },
 "nbformat": 4,
 "nbformat_minor": 4
}
